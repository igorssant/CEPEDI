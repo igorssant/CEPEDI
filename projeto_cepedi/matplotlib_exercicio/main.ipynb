{
 "cells": [
  {
   "cell_type": "markdown",
   "metadata": {},
   "source": [
    "# Exercício com Matplotlib"
   ]
  },
  {
   "cell_type": "markdown",
   "metadata": {},
   "source": [
    "## Importandos as bibliotecas"
   ]
  },
  {
   "cell_type": "code",
   "execution_count": null,
   "metadata": {},
   "outputs": [],
   "source": [
    "from matplotlib import pyplot as plt\n",
    "import numpy as np\n",
    "import pandas as pd\n",
    "import datetime as dt\n",
    "from utils.handle_data import read_data, fix_header_to_standarts, date_separators"
   ]
  },
  {
   "cell_type": "markdown",
   "metadata": {},
   "source": [
    "## Importando a base de dados"
   ]
  },
  {
   "cell_type": "markdown",
   "metadata": {},
   "source": [
    "### Lendo de um .CSV"
   ]
  },
  {
   "cell_type": "code",
   "execution_count": null,
   "metadata": {},
   "outputs": [],
   "source": [
    "file_name = \"edible_oils\"\n",
    "edible_oils = read_data(file_name)"
   ]
  },
  {
   "cell_type": "markdown",
   "metadata": {},
   "source": [
    "### Lendo de um .PKL"
   ]
  },
  {
   "cell_type": "code",
   "execution_count": null,
   "metadata": {},
   "outputs": [],
   "source": [
    "file_name = \"edible_oils\"\n",
    "edible_oils = read_data(file_name)\n",
    "edible_oils.info()"
   ]
  },
  {
   "cell_type": "markdown",
   "metadata": {},
   "source": [
    "### Remoção de espaços em branco e outras padronizações"
   ]
  },
  {
   "cell_type": "code",
   "execution_count": null,
   "metadata": {},
   "outputs": [],
   "source": [
    "header = edible_oils.columns\n",
    "header = fix_header_to_standarts(header)\n",
    "edible_oils.columns = header\n",
    "print(f\"{edible_oils.columns}\")"
   ]
  },
  {
   "cell_type": "code",
   "execution_count": null,
   "metadata": {},
   "outputs": [],
   "source": [
    "edible_oils.sample(5)"
   ]
  },
  {
   "cell_type": "markdown",
   "metadata": {},
   "source": [
    "### Tratamento de Datas"
   ]
  },
  {
   "cell_type": "code",
   "execution_count": null,
   "metadata": {},
   "outputs": [],
   "source": [
    "edible_oils[\"month\"] = date_separators(edible_oils[\"month\"])\n",
    "\n",
    "auxiliary = [dt.datetime.strptime(date, \"%b-%Y\") for date in edible_oils[\"month\"]]\n",
    "### edible_oils[\"month\"] = auxiliary\n",
    "\n",
    "# A coluna \"month\" está sendo corrompida nas operações mais abaixo,\n",
    "# então, por ora, iremos removê-la do dataFrame\n",
    "auxiliary = pd.DataFrame(auxiliary, columns = [\"month\"])\n",
    "edible_oils.drop(\"month\", inplace = True, axis = 1)"
   ]
  },
  {
   "cell_type": "code",
   "execution_count": null,
   "metadata": {},
   "outputs": [],
   "source": [
    "edible_oils.sample(5)"
   ]
  },
  {
   "cell_type": "markdown",
   "metadata": {},
   "source": [
    "### Remoção de NaN"
   ]
  },
  {
   "cell_type": "code",
   "execution_count": null,
   "metadata": {},
   "outputs": [],
   "source": [
    "special_columns_suffix = \"_change\"\n",
    "for colunm in edible_oils.columns:\n",
    "    if special_columns_suffix in colunm:\n",
    "        edible_oils[f\"{colunm}\"] = edible_oils[f\"{colunm}\"].fillna(\"0%\")\n",
    "    \n",
    "    else:\n",
    "        edible_oils[f\"{colunm}\"] = edible_oils[f\"{colunm}\"].fillna(\"0\")\n",
    "\n",
    "edible_oils.sample(5)"
   ]
  },
  {
   "cell_type": "markdown",
   "metadata": {},
   "source": [
    "### Tratamento dos tipos dos dados"
   ]
  },
  {
   "cell_type": "code",
   "execution_count": null,
   "metadata": {},
   "outputs": [],
   "source": [
    "special_columns_suffix = \"_change\"\n",
    "\n",
    "for column in edible_oils.columns:\n",
    "  if special_columns_suffix in column:\n",
    "    edible_oils[f\"{column}\"] = edible_oils[f\"{column}\"].str.strip(\"%\")\n",
    "    \n",
    "columns_with_problem = [\"coconut_oil_price\", \"olive_oil_price\", \"palm_kernel_oil_price\",\n",
    "                        \"palm_oil_price\", \"peanut_oil_price\", \"rapeseed_oil_price\",\n",
    "                        \"soybean_oil_price\", \"sunflower_oil_price\"]\n",
    "\n",
    "for column in columns_with_problem:\n",
    "  edible_oils[column] = edible_oils[column].str.replace(\",\", \"\")\n",
    "\n",
    "edible_oils.sample(5)"
   ]
  },
  {
   "cell_type": "code",
   "execution_count": null,
   "metadata": {},
   "outputs": [],
   "source": [
    "columns_with_problem_2 = [\"coconut_oil_price\", \"coconut_oil_price_change\", \"olive_oil_price\", \"olive_oil_price_change\",\n",
    "                          \"palm_kernel_oil_price\", \"palm_kernel_oil_price_change\", \"palm_oil_price\", \"palm_oil_price_change\",\n",
    "                          \"peanut_oil_price\", \"peanut_oil_price_change\", \"rapeseed_oil_price\", \"rapeseed_oil_price_change\",\n",
    "                        \"soybean_oil_price\", \"soybean_oil_price_change\", \"sunflower_oil_price\", \"sunflower_oil_price_change\"]\n",
    "\n",
    "for column in columns_with_problem_2:\n",
    "  edible_oils[edible_oils[column] == \"-\"] = 0\n",
    "  \n",
    "edible_oils.sample(5)"
   ]
  },
  {
   "cell_type": "code",
   "execution_count": null,
   "metadata": {},
   "outputs": [],
   "source": [
    "### coconut\n",
    "edible_oils[\"coconut_oil_price\"] = edible_oils[\"coconut_oil_price\"].astype(\"float32\")\n",
    "edible_oils[\"coconut_oil_price_change\"] = edible_oils[\"coconut_oil_price_change\"].astype(\"float32\")\n",
    "\n",
    "### olive\n",
    "edible_oils[\"olive_oil_price\"] = edible_oils[\"olive_oil_price\"].astype(\"float32\")\n",
    "edible_oils[\"olive_oil_price_change\"] = edible_oils[\"olive_oil_price_change\"].astype(\"float32\")\n",
    "\n",
    "### palm_kernel\n",
    "edible_oils[\"palm_kernel_oil_price\"] = edible_oils[\"palm_kernel_oil_price\"].astype(\"float32\")\n",
    "edible_oils[\"palm_kernel_oil_price_change\"] = edible_oils[\"palm_kernel_oil_price_change\"].astype(\"float32\")\n",
    "\n",
    "### palm\n",
    "edible_oils[\"palm_oil_price\"] = edible_oils[\"palm_oil_price\"].astype(\"float32\")\n",
    "edible_oils[\"palm_oil_price_change\"] = edible_oils[\"palm_oil_price_change\"].astype(\"float32\")\n",
    "\n",
    "### peanut\n",
    "edible_oils[\"peanut_oil_price\"] = edible_oils[\"peanut_oil_price\"].astype(\"float32\")\n",
    "edible_oils[\"peanut_oil_price_change\"] = edible_oils[\"peanut_oil_price_change\"].astype(\"float32\")\n",
    "\n",
    "### rapeseed\n",
    "edible_oils[\"rapeseed_oil_price\"] = edible_oils[\"rapeseed_oil_price\"].astype(\"float32\")\n",
    "edible_oils[\"rapeseed_oil_price_change\"] = edible_oils[\"rapeseed_oil_price_change\"].astype(\"float32\")\n",
    "\n",
    "### soybean\n",
    "edible_oils[\"soybean_oil_price\"] = edible_oils[\"soybean_oil_price\"].astype(\"float32\")\n",
    "edible_oils[\"soybean_oil_price_change\"] = edible_oils[\"soybean_oil_price_change\"].astype(\"float32\")\n",
    "\n",
    "### sunflower\n",
    "edible_oils[\"sunflower_oil_price\"] = edible_oils[\"sunflower_oil_price\"].astype(\"float32\")\n",
    "edible_oils[\"sunflower_oil_price_change\"] = edible_oils[\"sunflower_oil_price_change\"].str.strip(\"-\").astype(\"float32\")\n",
    "\n",
    "edible_oils.sample(5)"
   ]
  },
  {
   "cell_type": "code",
   "execution_count": null,
   "metadata": {},
   "outputs": [],
   "source": [
    "columns_with_zeroes = [\"coconut_oil_price\", \"coconut_oil_price_change\", \"olive_oil_price\", \"olive_oil_price_change\",\n",
    "                          \"palm_kernel_oil_price\", \"palm_kernel_oil_price_change\", \"palm_oil_price\", \"palm_oil_price_change\",\n",
    "                          \"peanut_oil_price\", \"peanut_oil_price_change\", \"rapeseed_oil_price\", \"rapeseed_oil_price_change\",\n",
    "                        \"soybean_oil_price\", \"soybean_oil_price_change\", \"sunflower_oil_price\", \"sunflower_oil_price_change\"]\n",
    "  \n",
    "for column in columns_with_zeroes:\n",
    "  edible_oils[edible_oils[column] == 0] = edible_oils[column].median()\n",
    "\n",
    "edible_oils.sample(5)"
   ]
  },
  {
   "cell_type": "markdown",
   "metadata": {},
   "source": [
    "#### Unindo os dois dataFrames"
   ]
  },
  {
   "cell_type": "code",
   "execution_count": null,
   "metadata": {},
   "outputs": [],
   "source": [
    "edible_oils = pd.concat([auxiliary, edible_oils], axis = 1)\n",
    "\n",
    "edible_oils.sample(5)"
   ]
  },
  {
   "cell_type": "markdown",
   "metadata": {},
   "source": [
    "## Aplicação do Matplotlib"
   ]
  },
  {
   "cell_type": "markdown",
   "metadata": {},
   "source": [
    "### plot"
   ]
  },
  {
   "cell_type": "code",
   "execution_count": null,
   "metadata": {},
   "outputs": [],
   "source": [
    "#figure_plot = plt.figure()\n",
    "\n",
    "edible_oils.plot(x = \"month\", y = \"olive_oil_price\")\n",
    "plt.show()"
   ]
  },
  {
   "cell_type": "markdown",
   "metadata": {},
   "source": [
    "### scatter"
   ]
  },
  {
   "cell_type": "code",
   "execution_count": null,
   "metadata": {},
   "outputs": [],
   "source": [
    "#figure_plot = plt.figure()\n",
    "\n",
    "edible_oils.plot(kind = \"scatter\", x = \"olive_oil_price_change\", y = \"olive_oil_price\")\n",
    "plt.show()"
   ]
  },
  {
   "cell_type": "markdown",
   "metadata": {},
   "source": [
    "### pie"
   ]
  },
  {
   "cell_type": "code",
   "execution_count": null,
   "metadata": {},
   "outputs": [],
   "source": [
    "#figure_plot = plt.figure()\n",
    "\n",
    "edible_oils.plot(kind = \"pie\", x = \"month\", y = \"olive_oil_price\")\n",
    "plt.show()"
   ]
  },
  {
   "cell_type": "markdown",
   "metadata": {},
   "source": [
    "### bar"
   ]
  },
  {
   "cell_type": "code",
   "execution_count": null,
   "metadata": {},
   "outputs": [],
   "source": [
    "#figure_plot = plt.figure()\n",
    "\n",
    "edible_oils.plot(kind= \"bar\", x = \"month\", y = \"olive_oil_price\")\n",
    "plt.show()"
   ]
  },
  {
   "cell_type": "markdown",
   "metadata": {},
   "source": [
    "### barh"
   ]
  },
  {
   "cell_type": "code",
   "execution_count": null,
   "metadata": {},
   "outputs": [],
   "source": [
    "#figure_plot = plt.figure()\n",
    "\n",
    "edible_oils.plot(kind = \"barh\", x = \"month\", y = \"olive_oil_price\")\n",
    "plt.show()"
   ]
  },
  {
   "cell_type": "markdown",
   "metadata": {},
   "source": [
    "### boxplot"
   ]
  },
  {
   "cell_type": "code",
   "execution_count": null,
   "metadata": {},
   "outputs": [],
   "source": [
    "#figure_plot = plt.figure()\n",
    "\n",
    "edible_oils.boxplot(\"rapeseed_oil_price\", vert = 1, patch_artist = False)\n",
    "plt.show()"
   ]
  },
  {
   "cell_type": "markdown",
   "metadata": {},
   "source": [
    "### hist"
   ]
  },
  {
   "cell_type": "code",
   "execution_count": null,
   "metadata": {},
   "outputs": [],
   "source": [
    "#figure_plot = plt.figure()\n",
    "\n",
    "edible_oils.plot(kind = \"hist\", x = \"month\", y = \"olive_oil_price\")\n",
    "plt.show()"
   ]
  }
 ],
 "metadata": {
  "kernelspec": {
   "display_name": "Python 3.10.6 ('.cepedi-venv')",
   "language": "python",
   "name": "python3"
  },
  "language_info": {
   "codemirror_mode": {
    "name": "ipython",
    "version": 3
   },
   "file_extension": ".py",
   "mimetype": "text/x-python",
   "name": "python",
   "nbconvert_exporter": "python",
   "pygments_lexer": "ipython3",
   "version": "3.10.6"
  },
  "orig_nbformat": 4,
  "vscode": {
   "interpreter": {
    "hash": "5f4585cbc2d8eb1d780a88de6606e8f5cac97c92f9166959e0ba4d722dc9a966"
   }
  }
 },
 "nbformat": 4,
 "nbformat_minor": 2
}
